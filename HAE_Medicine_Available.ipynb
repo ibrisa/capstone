{
  "nbformat": 4,
  "nbformat_minor": 0,
  "metadata": {
    "colab": {
      "provenance": []
    },
    "kernelspec": {
      "name": "python3",
      "display_name": "Python 3"
    },
    "language_info": {
      "name": "python"
    }
  },
  "cells": [
    {
      "cell_type": "code",
      "execution_count": null,
      "metadata": {
        "id": "6Yd23q2ZcuVp"
      },
      "outputs": [],
      "source": [
        "# Import relevant libraries\n",
        "import pandas as pd\n",
        "import numpy as np\n",
        "import matplotlib.pyplot as plt"
      ]
    },
    {
      "cell_type": "markdown",
      "source": [
        "### Africa"
      ],
      "metadata": {
        "id": "I2FcQeXcFiAA"
      }
    },
    {
      "cell_type": "code",
      "source": [
        "# Load the data\n",
        "africa = pd.read_csv ('/content/africa.csv')\n",
        "africa.head()\n",
        "\n",
        "# Add a column if prophylactic medicine available\n",
        "conditionsP = [\n",
        "    (africa['P - Tranexamic Acid'] == 'Yes'), \n",
        "    (africa['P - Danazol'] == 'Yes'),\n",
        "    (africa['P - Cinryze'] == 'Yes'),\n",
        "    (africa['P - Takhzyro'] == 'Yes'),\n",
        "    (africa['P - Orladeyo'] == 'Yes'),\n",
        "    (africa['P- Haegarda'] == 'Yes')\n",
        "    ]\n",
        "\n",
        "valuesP = ['Yes']*6\n",
        "africa['hasProphylactic'] = np.select(conditionsP, valuesP)\n",
        "\n",
        "# Add a column if second generation prophylactic medicine available\n",
        "\n",
        "conditionsGenP = [\n",
        "    (africa['P - Cinryze'] == 'Yes'),\n",
        "    (africa['P - Takhzyro'] == 'Yes'),\n",
        "    (africa['P - Orladeyo'] == 'Yes'),\n",
        "    (africa['P- Haegarda'] == 'Yes')\n",
        "    ]\n",
        "\n",
        "valuesGenP = ['Yes']*4\n",
        "africa['2ndGenP'] = np.select(conditionsGenP, valuesGenP)\n",
        "\n",
        "# Add a column if acute medicine available\n",
        "conditionsA = [\n",
        "    (africa['A - Firazyr'] == 'Yes'),\n",
        "    (africa['A - Generic Icatibant'] == 'Yes'),\n",
        "    (africa['A - Berinert'] == 'Yes'),\n",
        "    (africa['A - Kalbitor'] == 'Yes'),\n",
        "    (africa['A - Ruconest'] == 'Yes'),\n",
        "    (africa['A - FFP'] == 'Yes')\n",
        "    ]\n",
        "\n",
        "valuesA = ['Yes']*6\n",
        "africa['hasAcute'] = np.select(conditionsA, valuesA)\n",
        "\n",
        "# Add a column if second generation acute medicine available\n",
        "\n",
        "conditionsGenA = [\n",
        "    (africa['A - FFP'] == 'Yes')\n",
        "    ]\n",
        "\n",
        "valuesGenA = ['Yes']\n",
        "africa['2ndGenA'] = np.select(conditionsGenA, valuesGenA)\n",
        "\n",
        "africa.head()\n",
        "\n",
        "\n",
        "print('Countries in Africa with Prophylactic Medicine:', len(africa[(africa['hasProphylactic']=='Yes')]))\n",
        "print('Countries in Africa with An Option Other than Prophylactic First Gen Medicine:', len(africa[(africa['2ndGenP']=='Yes')]))\n",
        "\n",
        "print('Countries in Africa with Acute Medicine:', len(africa[(africa['hasAcute']=='Yes')]))\n",
        "print('Countries in Africa with First Gen Acute Medicine:', len(africa[(africa['2ndGenA']=='Yes')]))"
      ],
      "metadata": {
        "colab": {
          "base_uri": "https://localhost:8080/"
        },
        "id": "og6_Typ7hTJQ",
        "outputId": "09337dc7-26a2-45d5-f8c8-899aaea52365"
      },
      "execution_count": null,
      "outputs": [
        {
          "output_type": "stream",
          "name": "stdout",
          "text": [
            "Countries in Africa with Prophylactic Medicine: 4\n",
            "Countries in Africa with An Option Other than Prophylactic First Gen Medicine: 1\n",
            "Countries in Africa with Acute Medicine: 4\n",
            "Countries in Africa with First Gen Acute Medicine: 3\n"
          ]
        }
      ]
    },
    {
      "cell_type": "markdown",
      "source": [
        "### South America"
      ],
      "metadata": {
        "id": "Ysz-HEasFkIt"
      }
    },
    {
      "cell_type": "code",
      "source": [
        "# Load the data\n",
        "southamerica = pd.read_csv ('/content/southamerica.csv')\n",
        "southamerica.head()\n",
        "\n",
        "# Add a column if prophylactic medicine available\n",
        "conditionsP = [\n",
        "    (southamerica['P - Tranexamic Acid'] == 'Yes'), \n",
        "    (southamerica['P - Danazol'] == 'Yes'),\n",
        "    (southamerica['P - Cinryze'] == 'Yes'),\n",
        "    (southamerica['P - Takhzyro'] == 'Yes'),\n",
        "    (southamerica['P - Orladeyo'] == 'Yes'),\n",
        "    (southamerica['P- Haegarda'] == 'Yes')\n",
        "    ]\n",
        "\n",
        "valuesP = ['Yes']*6\n",
        "southamerica['hasProphylactic'] = np.select(conditionsP, valuesP)\n",
        "\n",
        "# Add a column if second generation prophylactic medicine available\n",
        "\n",
        "conditionsGenP = [\n",
        "    (southamerica['P - Cinryze'] == 'Yes'),\n",
        "    (southamerica['P - Takhzyro'] == 'Yes'),\n",
        "    (southamerica['P - Orladeyo'] == 'Yes'),\n",
        "    (southamerica['P- Haegarda'] == 'Yes')\n",
        "    ]\n",
        "\n",
        "valuesGenP = ['Yes']*4\n",
        "southamerica['2ndGenP'] = np.select(conditionsGenP, valuesGenP)\n",
        "\n",
        "# Add a column if acute medicine available\n",
        "conditionsA = [\n",
        "    (southamerica['A - Firazyr'] == 'Yes'),\n",
        "    (southamerica['A - Generic Icatibant'] == 'Yes'),\n",
        "    (southamerica['A - Berinert'] == 'Yes'),\n",
        "    (southamerica['A - Kalbitor'] == 'Yes'),\n",
        "    (southamerica['A - Ruconest'] == 'Yes'),\n",
        "    (southamerica['A - FFP'] == 'Yes')\n",
        "    ]\n",
        "\n",
        "valuesA = ['Yes']*6\n",
        "southamerica['hasAcute'] = np.select(conditionsA, valuesA)\n",
        "\n",
        "# Add a column if second generation acute medicine available\n",
        "\n",
        "conditionsGenA = [\n",
        "    (southamerica['A - FFP'] == 'Yes')\n",
        "    ]\n",
        "\n",
        "valuesGenA = ['Yes']\n",
        "southamerica['2ndGenA'] = np.select(conditionsGenA, valuesGenA)\n",
        "\n",
        "southamerica.head()\n",
        "\n",
        "\n",
        "print('Countries in South America with Prophylactic Medicine:', len(southamerica[(southamerica['hasProphylactic']=='Yes')]))\n",
        "print('Countries in South America with An Option Other than Prophylactic First Gen Medicine:', len(southamerica[(southamerica['2ndGenP']=='Yes')]))\n",
        "\n",
        "print('Countries in South America with Acute Medicine:', len(southamerica[(southamerica['hasAcute']=='Yes')]))\n",
        "print('Countries in South America with First Gen Acute Medicine:', len(southamerica[(southamerica['2ndGenA']=='Yes')]))"
      ],
      "metadata": {
        "colab": {
          "base_uri": "https://localhost:8080/"
        },
        "id": "0OKtW7hEdA5D",
        "outputId": "e2cd5778-78a0-41b3-adef-c1281fd3f34c"
      },
      "execution_count": null,
      "outputs": [
        {
          "output_type": "stream",
          "name": "stdout",
          "text": [
            "Countries in South America with Prophylactic Medicine: 5\n",
            "Countries in South America with An Option Other than Prophylactic First Gen Medicine: 2\n",
            "Countries in South America with Acute Medicine: 6\n",
            "Countries in South America with First Gen Acute Medicine: 0\n"
          ]
        }
      ]
    },
    {
      "cell_type": "markdown",
      "source": [
        "### Europe"
      ],
      "metadata": {
        "id": "519qc75YnKMv"
      }
    },
    {
      "cell_type": "code",
      "source": [
        "# Load the data\n",
        "europe = pd.read_csv ('/content/europe.csv')\n",
        "europe.head()\n",
        "\n",
        "# Add a column if prophylactic medicine available\n",
        "conditionsP = [\n",
        "    (europe['P - Tranexamic Acid'] == 'Yes'), \n",
        "    (europe['P - Danazol'] == 'Yes'),\n",
        "    (europe['P - Cinryze'] == 'Yes'),\n",
        "    (europe['P - Takhzyro'] == 'Yes'),\n",
        "    (europe['P - Orladeyo'] == 'Yes'),\n",
        "    (europe['P- Haegarda'] == 'Yes')\n",
        "    ]\n",
        "\n",
        "valuesP = ['Yes']*6\n",
        "europe['hasProphylactic'] = np.select(conditionsP, valuesP)\n",
        "\n",
        "# Add a column if second generation prophylactic medicine available\n",
        "\n",
        "conditionsGenP = [\n",
        "    (europe['P - Cinryze'] == 'Yes'),\n",
        "    (europe['P - Takhzyro'] == 'Yes'),\n",
        "    (europe['P - Orladeyo'] == 'Yes'),\n",
        "    (europe['P- Haegarda'] == 'Yes')\n",
        "    ]\n",
        "\n",
        "valuesGenP = ['Yes']*4\n",
        "europe['2ndGenP'] = np.select(conditionsGenP, valuesGenP)\n",
        "\n",
        "# Add a column if acute medicine available\n",
        "conditionsA = [\n",
        "    (europe['A - Firazyr'] == 'Yes'),\n",
        "    (europe['A - Generic Icatibant'] == 'Yes'),\n",
        "    (europe['A - Berinert'] == 'Yes'),\n",
        "    (europe['A - Kalbitor'] == 'Yes'),\n",
        "    (europe['A - Ruconest'] == 'Yes'),\n",
        "    (europe['A - Cetor?'] == 'Yes'),\n",
        "    (europe['Cebitor'] == 'Yes'),\n",
        "    (europe['A - FFP'] == 'Yes')\n",
        "    ]\n",
        "\n",
        "valuesA = ['Yes']*8\n",
        "europe['hasAcute'] = np.select(conditionsA, valuesA)\n",
        "\n",
        "# Add a column if second generation acute medicine available\n",
        "\n",
        "conditionsGenA = [\n",
        "    (europe['A - FFP'] == 'Yes')\n",
        "    ]\n",
        "\n",
        "valuesGenA = ['Yes']\n",
        "europe['2ndGenA'] = np.select(conditionsGenA, valuesGenA)\n",
        "\n",
        "europe.head()\n",
        "\n",
        "\n",
        "print('Countries in Europe with Prophylactic Medicine:', len(europe[(europe['hasProphylactic']=='Yes')]))\n",
        "print('Countries in Europe with An Option Other than Prophylactic First Gen Medicine:', len(europe[(europe['2ndGenP']=='Yes')]))\n",
        "\n",
        "print('Countries in Europe with Acute Medicine:', len(europe[(europe['hasAcute']=='Yes')]))\n",
        "print('Countries in Europe with First Gen Acute Medicine:', len(europe[(europe['2ndGenA']=='Yes')]))"
      ],
      "metadata": {
        "colab": {
          "base_uri": "https://localhost:8080/"
        },
        "id": "EQ2R8Q2CduoA",
        "outputId": "743dae24-f9ea-4491-bf73-e913ba455099"
      },
      "execution_count": null,
      "outputs": [
        {
          "output_type": "stream",
          "name": "stdout",
          "text": [
            "Countries in Europe with Prophylactic Medicine: 36\n",
            "Countries in Europe with An Option Other than Prophylactic First Gen Medicine: 36\n",
            "Countries in Europe with Acute Medicine: 36\n",
            "Countries in Europe with First Gen Acute Medicine: 0\n"
          ]
        }
      ]
    },
    {
      "cell_type": "code",
      "source": [],
      "metadata": {
        "id": "8tbp7xiOoJwP"
      },
      "execution_count": null,
      "outputs": []
    }
  ]
}